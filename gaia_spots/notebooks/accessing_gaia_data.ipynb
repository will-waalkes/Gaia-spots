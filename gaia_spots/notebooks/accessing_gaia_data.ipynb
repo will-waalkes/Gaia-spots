{
 "cells": [
  {
   "cell_type": "markdown",
   "id": "1b751a8a-9454-4866-a961-229408d8cb03",
   "metadata": {},
   "source": [
    "# Accessing Gaia Data"
   ]
  },
  {
   "cell_type": "markdown",
   "id": "d1fb8418-eec7-4077-b729-b7971ba8a8f4",
   "metadata": {},
   "source": [
    "This notebook is essentially 'scratch paper' for playing with the Gaia table"
   ]
  },
  {
   "cell_type": "markdown",
   "id": "a6600e95-deaa-49f1-9050-52d89a53a5f6",
   "metadata": {},
   "source": [
    "https://astroquery.readthedocs.io/en/latest/gaia/gaia.html"
   ]
  },
  {
   "cell_type": "markdown",
   "id": "81e0f4fd-4d96-4f93-9f63-70ed9eb44727",
   "metadata": {},
   "source": [
    "https://www.cosmos.esa.int/web/gaia-users/archive/datalink-products#datalink_jntb_get_all_prods"
   ]
  },
  {
   "cell_type": "markdown",
   "id": "fd71cf23-6987-4329-ae21-1b2d4941d212",
   "metadata": {},
   "source": [
    "https://github.com/jobovy/gaia_tools#basic-use"
   ]
  },
  {
   "cell_type": "markdown",
   "id": "20b81b0c-eab9-4638-a04e-44f40dc175be",
   "metadata": {},
   "source": [
    "https://pyia.readthedocs.io/en/latest/"
   ]
  },
  {
   "cell_type": "markdown",
   "id": "874d1a55-0e6c-4636-a320-bec7adf9cc50",
   "metadata": {},
   "source": [
    "https://gea.esac.esa.int/archive/visualization/"
   ]
  },
  {
   "cell_type": "code",
   "execution_count": null,
   "id": "9c6fe44e-5ba5-4315-9840-29cd88fa90fc",
   "metadata": {},
   "outputs": [],
   "source": [
    "from astroquery.gaia import Gaia\n",
    "\n",
    "Gaia.MAIN_GAIA_TABLE = \"gaiadr2.gaia_source\"  # Select Data Release 2\n",
    "\n",
    "Gaia.MAIN_GAIA_TABLE = \"gaiadr3.gaia_source\"  # Reselect Data Release 3, default"
   ]
  },
  {
   "cell_type": "code",
   "execution_count": null,
   "id": "58d9d660-47ef-413e-a3dd-c112fd98f284",
   "metadata": {},
   "outputs": [],
   "source": [
    "import astropy.units as u\n",
    "\n",
    "from astropy.coordinates import SkyCoord\n",
    "\n",
    "from astroquery.gaia import Gaia\n",
    "\n",
    "\n",
    "coord = SkyCoord(ra=280, dec=-60, unit=(u.degree, u.degree), frame='icrs')\n",
    "\n",
    "width = u.Quantity(0.1, u.deg)\n",
    "\n",
    "height = u.Quantity(0.1, u.deg)\n",
    "\n",
    "r = Gaia.query_object_async(coordinate=coord, width=width, height=height)\n",
    "\n",
    "r.pprint(max_lines=12, max_width=130)"
   ]
  },
  {
   "cell_type": "code",
   "execution_count": null,
   "id": "e26c0d73-3f48-41c0-a7da-c266fa207ff4",
   "metadata": {},
   "outputs": [],
   "source": [
    "from astroquery.gaia import Gaia\n",
    "\n",
    "tables = Gaia.load_tables(only_names=True)\n",
    "\n",
    "for table in (tables):\n",
    "    print(table.get_qualified_name())\n",
    "    external.external.apassdr9\n",
    "    external.external.gaiadr2_astrophysical_parameters\n",
    "    external.external.gaiadr2_geometric_distance\n",
    "    external.external.gaiaedr3_distance\n",
    "    \n",
    "    \n",
    "    tap_schema.tap_schema.keys\n",
    "    tap_schema.tap_schema.schemas\n",
    "    tap_schema.tap_schema.tables"
   ]
  },
  {
   "cell_type": "code",
   "execution_count": null,
   "id": "0114c446-bd73-450e-ac76-d9fd36da52f9",
   "metadata": {},
   "outputs": [],
   "source": [
    "tables = Gaia.load_tables()"
   ]
  },
  {
   "cell_type": "code",
   "execution_count": null,
   "id": "6b44b325-ab31-4e7f-9e24-c62e44044229",
   "metadata": {},
   "outputs": [],
   "source": [
    "for table in tables:\n",
    "    print(table.name)"
   ]
  },
  {
   "cell_type": "code",
   "execution_count": null,
   "id": "74391dc9-db30-4a8d-938f-cefc65eb55ff",
   "metadata": {},
   "outputs": [],
   "source": [
    "gaiadr3_table = Gaia.load_table('gaiadr3.gaia_source')"
   ]
  },
  {
   "cell_type": "code",
   "execution_count": null,
   "id": "c0b0b773-e6ac-43f1-bd3e-b8cf7b72b521",
   "metadata": {},
   "outputs": [],
   "source": [
    "for i range(lenprint(gaiadr3_table.columns[0].name)"
   ]
  },
  {
   "cell_type": "code",
   "execution_count": null,
   "id": "fa7d8825-e2c4-4e13-a58d-4e0a02d9923b",
   "metadata": {},
   "outputs": [],
   "source": [
    "bp_rp = gaiadr3_table.columns[86]\n",
    "bp_g = gaiadr3_table.columns[87]\n",
    "g_rp = gaiadr3_table.columns[88]"
   ]
  }
 ],
 "metadata": {
  "kernelspec": {
   "display_name": "Python 3 (ipykernel)",
   "language": "python",
   "name": "python3"
  },
  "language_info": {
   "codemirror_mode": {
    "name": "ipython",
    "version": 3
   },
   "file_extension": ".py",
   "mimetype": "text/x-python",
   "name": "python",
   "nbconvert_exporter": "python",
   "pygments_lexer": "ipython3",
   "version": "3.10.13"
  }
 },
 "nbformat": 4,
 "nbformat_minor": 5
}
