{
 "cells": [
  {
   "cell_type": "markdown",
   "id": "96c1973e-a737-47f9-a815-69323001dd14",
   "metadata": {},
   "source": [
    "\n",
    "# Downloading Gaia Data 💾\n",
    "\n",
    "To get a table of positions and photometry, we can use the get_gaia function. This is a wrapper to astroquery and the fabulous Gaia archive, designed to be quick and easy to use.\n"
   ]
  },
  {
   "cell_type": "markdown",
   "id": "3f35802b-4f33-4387-9efe-2ddc1be020b5",
   "metadata": {},
   "source": [
    "## Usage: this is for playing with Gaia tables and generating finder charts\n",
    "\n",
    "Originally developed by Zach Berta-Thompson https://github.com/zkbt/thefriendlystars/"
   ]
  },
  {
   "cell_type": "code",
   "execution_count": null,
   "id": "1b0916d4-6e81-498c-82aa-4e4bdbe6c7d4",
   "metadata": {},
   "outputs": [],
   "source": [
    "! python -m pip install thefriendlystars"
   ]
  },
  {
   "cell_type": "code",
   "execution_count": null,
   "id": "4e25b897-11f1-4834-b71e-47e4084513af",
   "metadata": {},
   "outputs": [],
   "source": [
    "from astropy.coordinates import SkyCoord\n",
    "import astropy.units as u\n",
    "from thefriendlystars import get_gaia"
   ]
  },
  {
   "cell_type": "markdown",
   "id": "1cbb2764-2068-459d-abc0-c15b2a3512a6",
   "metadata": {},
   "source": [
    "\n",
    "\n",
    "To download some stars, specify a center and a radius, and let the function download data within that radius of that location. This will both download the star magnitudes directly measured with Gaia (G_gaia, BP_gaia, RP_gaia) and use color transformations to estimate the magnitudes in other common filters (g_sloan, r_sloan, i_sloan, V_johnsoncousins, R_johnsoncousins, I_johnsoncousins). With the results, you should have a decent estimate of the brightness of any star you want!\n"
   ]
  },
  {
   "cell_type": "code",
   "execution_count": null,
   "id": "3493f0d1-2760-4379-bda2-a55e4bbd05fd",
   "metadata": {},
   "outputs": [],
   "source": [
    "random_center = SkyCoord(ra=123.45*u.deg, dec=67.89*u.deg)\n",
    "random_radius = 1440*u.arcmin\n",
    "random_stars = get_gaia(random_center, radius=random_radius)"
   ]
  },
  {
   "cell_type": "code",
   "execution_count": null,
   "id": "5befc5fe-0a7d-44ea-97d3-fb58ec520fbc",
   "metadata": {},
   "outputs": [],
   "source": [
    "len(random_stars)"
   ]
  },
  {
   "cell_type": "markdown",
   "id": "3cf8c007-a6f3-4445-9c6f-0301f98797fd",
   "metadata": {},
   "source": [
    "\n",
    "\n",
    "Columns from this table can be extracted via their names."
   ]
  },
  {
   "cell_type": "code",
   "execution_count": null,
   "id": "61710288-27c2-475e-b00c-62ea41cb297b",
   "metadata": {},
   "outputs": [],
   "source": [
    "random_stars['ra']"
   ]
  },
  {
   "cell_type": "markdown",
   "id": "5b87b487-c5cd-4375-b0f0-395b4f71d9b5",
   "metadata": {},
   "source": [
    "\n",
    "\n",
    "We can also specify the center by using a star or object's common catalog name.\n"
   ]
  },
  {
   "cell_type": "code",
   "execution_count": null,
   "id": "eaf5e213-294f-4269-8692-e01d9a034377",
   "metadata": {},
   "outputs": [],
   "source": [
    "some_stars = get_gaia('GJ 1214',radius=0.5*u.arcmin)"
   ]
  },
  {
   "cell_type": "code",
   "execution_count": null,
   "id": "1ae72516-8d3a-46a7-a9c2-c8fa9796e2ea",
   "metadata": {},
   "outputs": [],
   "source": [
    "get_gaia?"
   ]
  },
  {
   "cell_type": "code",
   "execution_count": null,
   "id": "6ec167c4-44a6-41be-95a1-af189d9dd86c",
   "metadata": {},
   "outputs": [],
   "source": [
    "print(some_stars[])"
   ]
  },
  {
   "cell_type": "markdown",
   "id": "20e06389-e9e8-4eea-8656-fa01483038cb",
   "metadata": {},
   "source": [
    "\n",
    "Visualizing Gaia Data 🎨\n",
    "\n",
    "It'd be nice to be able to see this information in a way that's not just a giant table of data. Let's use the plot_gaia tool to plot one of the tables we've already downloaded.\n"
   ]
  },
  {
   "cell_type": "code",
   "execution_count": null,
   "id": "fca79bb2-03f7-4fef-b8dd-152ce24111d5",
   "metadata": {},
   "outputs": [],
   "source": [
    "from thefriendlystars import plot_gaia"
   ]
  },
  {
   "cell_type": "code",
   "execution_count": null,
   "id": "3eb6dca8-9e1b-422f-9b38-ccc0555544b0",
   "metadata": {},
   "outputs": [],
   "source": [
    "plot_gaia(some_stars)"
   ]
  },
  {
   "cell_type": "code",
   "execution_count": null,
   "id": "57cb8026-8265-4329-95fc-1897ec2bcd00",
   "metadata": {},
   "outputs": [],
   "source": [
    "table = some_stars"
   ]
  },
  {
   "cell_type": "markdown",
   "id": "37bc6cd1-49b5-4d4d-8348-cc4ddb44e750",
   "metadata": {},
   "source": [
    "\n",
    "\n",
    "We can change options to modify the appearance of this finder chart, including changing which filter is used to set the relative sizes of the points.\n"
   ]
  },
  {
   "cell_type": "code",
   "execution_count": null,
   "id": "8a8897e2-188a-46f8-b36a-7bdf79d6843f",
   "metadata": {},
   "outputs": [],
   "source": [
    "plot_gaia(some_stars, \n",
    "          filter='i_sloan',\n",
    "          faintest_magnitude_to_show=17,\n",
    "          faintest_magnitude_to_label=13,\n",
    "          size_of_zero_magnitude=200,\n",
    "          unit=u.arcsec)"
   ]
  },
  {
   "cell_type": "markdown",
   "id": "a1e1bb5f-33e0-4e19-8e85-0a44b4872554",
   "metadata": {},
   "source": [
    "With these tools, you can access a table of data and a quick visualization for any patch of the sky you care about!"
   ]
  },
  {
   "cell_type": "code",
   "execution_count": null,
   "id": "68654aa4-f78e-46f7-96bb-cb0895142f31",
   "metadata": {},
   "outputs": [],
   "source": [
    "cluster_center = SkyCoord.from_name(\"NGC 457\")\n",
    "cluster_stars = get_gaia(cluster_center)\n",
    "plot_gaia(cluster_stars, faintest_magnitude_to_label=10)"
   ]
  },
  {
   "cell_type": "code",
   "execution_count": null,
   "id": "0f811f8d-8177-449b-a33e-370a3797735a",
   "metadata": {},
   "outputs": [],
   "source": []
  }
 ],
 "metadata": {
  "kernelspec": {
   "display_name": "Python 3 (ipykernel)",
   "language": "python",
   "name": "python3"
  },
  "language_info": {
   "codemirror_mode": {
    "name": "ipython",
    "version": 3
   },
   "file_extension": ".py",
   "mimetype": "text/x-python",
   "name": "python",
   "nbconvert_exporter": "python",
   "pygments_lexer": "ipython3",
   "version": "3.10.13"
  }
 },
 "nbformat": 4,
 "nbformat_minor": 5
}
