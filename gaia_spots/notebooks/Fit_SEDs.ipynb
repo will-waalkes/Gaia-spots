{
 "cells": [
  {
   "cell_type": "markdown",
   "id": "d5a0d687-5e4a-4464-8fc3-8f31f79a17ec",
   "metadata": {},
   "source": [
    "# SED Analysis"
   ]
  },
  {
   "cell_type": "markdown",
   "id": "516e4469-dd30-49d2-86b6-ace87f112c65",
   "metadata": {},
   "source": [
    "In this example, we will import and read a table of flux measurements for AU Mic and fit a stellar spectral model to the Spectral Energy Distribution (SED). This example uses 'chromatic' to access PHOENIX spectra."
   ]
  },
  {
   "cell_type": "code",
   "execution_count": null,
   "id": "8df997bc-1b4a-47fc-a0aa-34f196c64df4",
   "metadata": {},
   "outputs": [],
   "source": [
    "from chromatic import get_phoenix_photons\n",
    "from expecto import get_spectrum\n",
    "from jax import numpy as jnp\n",
    "from fleck.jax import ActiveStar, bin_spectrum\n",
    "import astropy\n",
    "from median_bin import median_bin\n",
    "import numpy as np"
   ]
  },
  {
   "cell_type": "markdown",
   "id": "5e88e7b8-3de6-46a3-b435-a44d62cb4778",
   "metadata": {},
   "source": [
    "Let's read in the SED table:"
   ]
  },
  {
   "cell_type": "code",
   "execution_count": null,
   "id": "74f50078-23fd-4862-be41-440c25de04d1",
   "metadata": {},
   "outputs": [],
   "source": [
    "from astropy.table import Table\n",
    "table = Table.read('AUMic_vizier_votable.vot', format='votable')"
   ]
  },
  {
   "cell_type": "code",
   "execution_count": null,
   "id": "c684ba15-0bbb-418e-bfe4-b6b71b618a6a",
   "metadata": {},
   "outputs": [],
   "source": [
    "import matplotlib.pyplot as plt\n",
    "import numpy as np\n",
    "import astropy.units as u\n",
    "import astropy.constants as c"
   ]
  },
  {
   "cell_type": "code",
   "execution_count": null,
   "id": "fc3917ab-0c88-4f76-a254-bddd7c093093",
   "metadata": {},
   "outputs": [],
   "source": [
    "_flux = table['sed_flux']\n",
    "_err = table['sed_eflux']\n",
    "frequency = table['sed_freq'] * 1e9 / u.s\n",
    "wavelength = frequency.to(u.um, u.spectral())"
   ]
  },
  {
   "cell_type": "code",
   "execution_count": null,
   "id": "bd089eb8-2c4c-4d44-a6c6-e2832797eebc",
   "metadata": {},
   "outputs": [],
   "source": [
    "sorted = np.argsort(wavelength)\n",
    "\n",
    "wave = wavelength[sorted]\n",
    "flux = _flux[sorted]\n",
    "err = _err[sorted]"
   ]
  },
  {
   "cell_type": "markdown",
   "id": "9557c3e9-f915-4325-bf6a-8ba0fdc555fd",
   "metadata": {},
   "source": [
    "Sort the data by wavelength"
   ]
  },
  {
   "cell_type": "code",
   "execution_count": null,
   "id": "862b39d1-e146-49cc-b903-542530290f47",
   "metadata": {},
   "outputs": [],
   "source": [
    "notnanflux = ~np.isnan(flux)\n",
    "\n",
    "_flux = flux[ notnanflux & (flux.value < 100) & (wave.value<5.0) ]\n",
    "_err = err[ notnanflux & (flux.value < 100) & (wave.value<5.0) ]\n",
    "_wave = wave[ notnanflux & (flux.value < 100) & (wave.value<5.0) ]"
   ]
  },
  {
   "cell_type": "code",
   "execution_count": null,
   "id": "5d0134aa-6c02-445d-b094-426d9f31e236",
   "metadata": {},
   "outputs": [],
   "source": [
    "wavelengths, fluxes, errors = median_bin(_wave.value, _flux.value, _err.value,gap_definition=0.00000000001)"
   ]
  },
  {
   "cell_type": "code",
   "execution_count": null,
   "id": "d65ee1e7-3cc6-4c4d-919f-cc948ab2a554",
   "metadata": {},
   "outputs": [],
   "source": [
    "model = get_phoenix_photons(temperature = 3900 * u.K,\n",
    "                            wavelength = wavelengths*u.micron)\n",
    "model_wave = model[0]\n",
    "model_flux = model[1]"
   ]
  },
  {
   "cell_type": "code",
   "execution_count": null,
   "id": "99a4a7b5-df28-4a3a-bb04-532e2ac7d945",
   "metadata": {},
   "outputs": [],
   "source": [
    "plt.errorbar(wavelengths, fluxes, errors, fmt='o')\n",
    "plt.plot(model_wave,model_flux/np.median(model_flux))\n",
    "plt.yscale('log')\n",
    "plt.xscale('log')"
   ]
  },
  {
   "cell_type": "code",
   "execution_count": null,
   "id": "45c5610c-829a-4947-8b43-8066e45e6921",
   "metadata": {},
   "outputs": [],
   "source": []
  }
 ],
 "metadata": {
  "kernelspec": {
   "display_name": "Python 3 (ipykernel)",
   "language": "python",
   "name": "python3"
  },
  "language_info": {
   "codemirror_mode": {
    "name": "ipython",
    "version": 3
   },
   "file_extension": ".py",
   "mimetype": "text/x-python",
   "name": "python",
   "nbconvert_exporter": "python",
   "pygments_lexer": "ipython3",
   "version": "3.10.13"
  }
 },
 "nbformat": 4,
 "nbformat_minor": 5
}
